{
 "cells": [
  {
   "cell_type": "markdown",
   "metadata": {},
   "source": [
    "## 1. 安装package openai\n",
    "    ! pip install openai"
   ]
  },
  {
   "cell_type": "code",
   "execution_count": 1,
   "metadata": {},
   "outputs": [
    {
     "name": "stdout",
     "output_type": "stream",
     "text": [
      "version = 1.12.0\n"
     ]
    }
   ],
   "source": [
    "import openai \n",
    "print(\"version =\",openai.__version__)"
   ]
  },
  {
   "cell_type": "code",
   "execution_count": 2,
   "metadata": {},
   "outputs": [],
   "source": [
    "api_key_str = \"sk-0g56v3qYextZ5b1JcxksAO6ZxJ3ZP7Y9uEVT4nEc6HRkVYde\""
   ]
  },
  {
   "cell_type": "markdown",
   "metadata": {},
   "source": [
    "## 2. chat.completions"
   ]
  },
  {
   "cell_type": "code",
   "execution_count": 3,
   "metadata": {},
   "outputs": [
    {
     "name": "stdout",
     "output_type": "stream",
     "text": [
      "ChatCompletionMessage(content='你好，李雷！1+1等于2。如果你有更复杂的数学问题或者其他问题，也可以随时问我。', role='assistant', function_call=None, tool_calls=None)\n"
     ]
    }
   ],
   "source": [
    "from openai import OpenAI\n",
    " \n",
    "client = OpenAI(\n",
    "    api_key=api_key_str,\n",
    "    base_url=\"https://api.moonshot.cn/v1\",\n",
    ")\n",
    " \n",
    "completion = client.chat.completions.create(\n",
    "  model=\"moonshot-v1-8k\",\n",
    "  messages=[\n",
    "    {\"role\": \"system\", \"content\": \"你是 Kimi，由 Moonshot AI 提供的人工智能助手，你更擅长中文和英文的对话。你会为用户提供安全，有帮助，准确的回答。同时，你会拒绝一切涉及恐怖主义，种族歧视，黄色暴力等问题的回答。Moonshot AI 为专有名词，不可翻译成其他语言。\"},\n",
    "    {\"role\": \"user\", \"content\": \"你好，我叫李雷，1+1等于多少？\"}\n",
    "  ],\n",
    "  temperature=0.3,\n",
    ")\n",
    " \n",
    "print(completion.choices[0].message)"
   ]
  },
  {
   "cell_type": "code",
   "execution_count": 5,
   "metadata": {},
   "outputs": [
    {
     "name": "stdout",
     "output_type": "stream",
     "text": [
      "你好，李雷！1+1等于2。如果你有更复杂的数学问题或者其他问题，也可以随时问我。\n"
     ]
    }
   ],
   "source": [
    "print(completion.choices[0].message.content)"
   ]
  },
  {
   "cell_type": "markdown",
   "metadata": {},
   "source": [
    "## 3. 获取可用的模型列表"
   ]
  },
  {
   "cell_type": "code",
   "execution_count": 6,
   "metadata": {},
   "outputs": [
    {
     "name": "stdout",
     "output_type": "stream",
     "text": [
      "地球的自转周期，也就是地球绕自己的轴旋转一周所需的时间，通常被称为一天。这个周期大约是24小时。不过，由于地球的自转速度并不是完全均匀的，会有极微小的变化，因此实际上地球的自转周期可以略微短于或长于24小时，这种现象称为地球时。此外，由于地球在自转的同时还绕太阳公转，所以太阳日（太阳回到同样位置所需的时间）会比恒星日（地球自转一周的实际时间）略长一些。太阳日的平均长度大约是24小时整。\n"
     ]
    }
   ],
   "source": [
    "from openai import OpenAI\n",
    " \n",
    "client = OpenAI(\n",
    "    api_key=api_key_str,\n",
    "    base_url=\"https://api.moonshot.cn/v1\",\n",
    ")\n",
    " \n",
    "history = [\n",
    "    {\"role\": \"system\", \"content\": \"你是 Kimi，由 Moonshot AI 提供的人工智能助手，你更擅长中文和英文的对话。你会为用户提供安全，有帮助，准确的回答。同时，你会拒绝一切涉及恐怖主义，种族歧视，黄色暴力等问题的回答。Moonshot AI 为专有名词，不可翻译成其他语言。\"}\n",
    "]\n",
    " \n",
    "def chat(query, history):\n",
    "    history += [{\n",
    "        \"role\": \"user\", \n",
    "        \"content\": query\n",
    "    }]\n",
    "    completion = client.chat.completions.create(\n",
    "        model=\"moonshot-v1-8k\",\n",
    "        messages=history,\n",
    "        temperature=0.3,\n",
    "    )\n",
    "    result = completion.choices[0].message.content\n",
    "    history += [{\n",
    "        \"role\": \"assistant\",\n",
    "        \"content\": result\n",
    "    }]\n",
    "    return result\n",
    " \n",
    "print(chat(\"地球的自转周期是多少？\", history))"
   ]
  },
  {
   "cell_type": "code",
   "execution_count": 7,
   "metadata": {},
   "outputs": [
    {
     "name": "stdout",
     "output_type": "stream",
     "text": [
      "月球的自转周期与它的公转周期相同，这种现象称为潮汐锁定。月球的自转周期大约是27.3天，这也是它绕地球公转一周的时间。这意味着月球总是以同一面朝向地球，我们从地球上看到的月球表面只有一面，另一面通常被称为月球的背面或暗面。\n",
      "\n",
      "需要注意的是，尽管月球的自转周期和公转周期相同，但由于地球也在绕太阳公转，所以月球需要额外的时间来完成一个完整的相位周期（从一个新月到下一个新月），这个周期大约是29.5天，称为朔望月。\n"
     ]
    }
   ],
   "source": [
    "print(chat(\"月球呢？\", history))"
   ]
  },
  {
   "cell_type": "code",
   "execution_count": null,
   "metadata": {},
   "outputs": [
    {
     "name": "stdout",
     "output_type": "stream",
     "text": [
      "model[0]: moonshot-v1-8k\n",
      "model[1]: moonshot-v1-32k\n",
      "model[2]: moonshot-v1-128k\n"
     ]
    }
   ],
   "source": [
    "import os\n",
    "from openai import OpenAI\n",
    " \n",
    "client = OpenAI(\n",
    "    api_key=api_key_str,\n",
    "    base_url=\"https://api.moonshot.cn/v1\",\n",
    ")\n",
    " \n",
    "model_list = client.models.list()\n",
    "model_data = model_list.data\n",
    " \n",
    "for i, model in enumerate(model_data):\n",
    "    print(f\"model[{i}]:\", model.id)"
   ]
  },
  {
   "cell_type": "markdown",
   "metadata": {},
   "source": [
    "## 4. 文本分析任务\n"
   ]
  },
  {
   "cell_type": "markdown",
   "metadata": {},
   "source": [
    "### （1） 从文本中抽取实体和关系：\n",
    "\n",
    "今天我向大家介绍一下一个人。他是张丰毅1956年9月1日出生于河南省南阳市唐河县，1982年毕业于北京电影学院，是中国电影协会理事。1993年，与其他演员主演电影《霸王别姬》。 \n",
    "\n",
    "待抽取信息：演员#出生年月#出生地#毕业院校\n"
   ]
  },
  {
   "cell_type": "code",
   "execution_count": 9,
   "metadata": {},
   "outputs": [
    {
     "name": "stdout",
     "output_type": "stream",
     "text": [
      "从给定的文本中，我们可以抽取以下信息：\n",
      "\n",
      "演员姓名：张丰毅\n",
      "出生年月：1956年9月1日\n",
      "出生地：河南省南阳市唐河县\n",
      "毕业院校：北京电影学院\n"
     ]
    }
   ],
   "source": [
    "from openai import OpenAI\n",
    " \n",
    "client = OpenAI(\n",
    "    api_key=api_key_str,\n",
    "    base_url=\"https://api.moonshot.cn/v1\",\n",
    ")\n",
    " \n",
    "completion = client.chat.completions.create(\n",
    "  model=\"moonshot-v1-8k\",\n",
    "  messages=[\n",
    "    {\"role\": \"system\", \"content\": \"你是文本分析专家，请理解给定的文本，从中抽取演员姓名，及其出生年月、出生地、毕业院校。\"},\n",
    "    {\"role\": \"user\", \"content\": \"给定文本：```今天我向大家介绍一下一个人。他是张丰毅1956年9月1日出生于河南省南阳市唐河县，1982年毕业于北京电影学院，是中国电影协会理事。1993年，与其他演员主演电影《霸王别姬》。```\"}\n",
    "  ],\n",
    "  temperature=0.3,\n",
    ")\n",
    " \n",
    "print(completion.choices[0].message.content)"
   ]
  },
  {
   "cell_type": "markdown",
   "metadata": {},
   "source": [
    "### （2）命名实体识别\n",
    "\n",
    "原文：据新华社电广东省清远市清城区政府昨日对外发布信息称，日前被实名举报涉嫌勒索企业、说“分分钟可以搞垮一间厂”的清城区环保局局长陈柏，已被免去清城区区委委员。\n",
    "\n",
    "待抽取实体类型：机构名，人名，职位"
   ]
  },
  {
   "cell_type": "code",
   "execution_count": 10,
   "metadata": {},
   "outputs": [
    {
     "name": "stdout",
     "output_type": "stream",
     "text": [
      "```json\n",
      "{\n",
      "  \"机构名\": [\"清远市清城区政府\", \"清城区环保局\"],\n",
      "  \"人名\": [\"陈柏\"],\n",
      "  \"职位\": [\"局长\", \"清城区区委委员\"]\n",
      "}\n",
      "```\n"
     ]
    }
   ],
   "source": [
    "from openai import OpenAI\n",
    " \n",
    "client = OpenAI(\n",
    "    api_key=api_key_str,\n",
    "    base_url=\"https://api.moonshot.cn/v1\",\n",
    ")\n",
    " \n",
    "completion = client.chat.completions.create(\n",
    "  model=\"moonshot-v1-8k\",\n",
    "  messages=[\n",
    "    {\"role\": \"system\", \"content\": \"你是文本分析专家，请理解给定的文本，从中抽取机构名、人名和职位。请以JSON形式给出抽取结果。\"},\n",
    "    {\"role\": \"user\", \"content\": \"给定文本：```据新华社电广东省清远市清城区政府昨日对外发布信息称，日前被实名举报涉嫌勒索企业、说“分分钟可以搞垮一间厂”的清城区环保局局长陈柏，已被免去清城区区委委员。```\"}\n",
    "  ],\n",
    "  temperature=0.3,\n",
    ")\n",
    " \n",
    "print(completion.choices[0].message.content)"
   ]
  },
  {
   "cell_type": "markdown",
   "metadata": {},
   "source": [
    "## （3）自定义待抽取信息\n",
    "\n",
    "我今天胃不舒服，手有点麻木，浑身不舒服，前几天去医院医生说我有胃炎，需要做胃镜检查。\n",
    "\n",
    "问题：症状#检查#身体部位#疾病"
   ]
  },
  {
   "cell_type": "code",
   "execution_count": 12,
   "metadata": {},
   "outputs": [
    {
     "name": "stdout",
     "output_type": "stream",
     "text": [
      "{\n",
      "  \"疾病\": [\n",
      "    {\n",
      "      \"名称\": \"胃炎\",\n",
      "      \"症状\": [\n",
      "        \"胃不舒服\",\n",
      "        \"浑身不舒服\"\n",
      "      ],\n",
      "      \"身体部位\": [\n",
      "        \"胃\"\n",
      "      ],\n",
      "      \"检查项目\": [\n",
      "        \"胃镜检查\"\n",
      "      ]\n",
      "    }\n",
      "  ]\n",
      "}\n"
     ]
    }
   ],
   "source": [
    "from openai import OpenAI\n",
    " \n",
    "client = OpenAI(\n",
    "    api_key=api_key_str,\n",
    "    base_url=\"https://api.moonshot.cn/v1\",\n",
    ")\n",
    "\n",
    "prompt_str = \"你是医疗专家，请理解给定的文本，从中抽取疾病，疾病症状、身体部位以及检查项目。请以JSON形式给出抽取结果。\"\n",
    "given_text = \"我今天胃不舒服，手有点麻木，浑身不舒服，前几天去医院医生说我有胃炎，需要做胃镜检查。\" \n",
    "completion = client.chat.completions.create(\n",
    "  model=\"moonshot-v1-8k\",\n",
    "  messages=[\n",
    "    {\"role\": \"system\", \"content\": prompt_str},\n",
    "    {\"role\": \"user\", \"content\": \"给定文本：\" + given_text}\n",
    "  ],\n",
    "  temperature=0.3,\n",
    ")\n",
    " \n",
    "print(completion.choices[0].message.content)"
   ]
  },
  {
   "cell_type": "markdown",
   "metadata": {},
   "source": [
    "### （4）关键词抽取\n"
   ]
  },
  {
   "cell_type": "code",
   "execution_count": 13,
   "metadata": {},
   "outputs": [],
   "source": [
    "given_text = '''\n",
    "人类正站在技术变革爆发点，Exascale超级电脑每秒进行百亿亿次级计算，AI发现的晶体结构数量是科学史上发现的45倍以上，仅用30天就研发出潜在抗癌新药，乌拉圭工业机器人数量比人口还多......\n",
    "美国银行在3月21日的深度报告中指出，2024年将是“AI赋能一切”的一年，AI和其他技术发展之间形成一个巨大的正反馈，包括人工智能、计算、机器人、通信、医疗保健、能源等30项技术领域或将迎来突破。\n",
    "而实现突破的技术商业化十分关键，美银预计相关市场规模约为16万亿美元。\n",
    "从历史来看，技术进步导致财富集中和企业快速更迭，过去100年里3%的公司几乎创造了全球所有的净财富；自从2015年以来，大约三分之一标普500成分股被替换，技术加速市场变革和颠覆。\n",
    "自去年来AI科技革命拉开帷幕，正带动各行各业加速发展，未来将更多取决于AI模型的落地和应用，美银指出了端侧AI设备、增强模拟、知识图谱、超算（HDC）、通用人工智能（AGI）等五大落地方向。\n",
    "图片AI“接管”一切 发展形成“正反馈”\n",
    "美银指出，人工智能发展正处于一个转折点，其正在以指数级的速度改变各行业，AI未来的发展将取决于以下三方面因素：\n",
    "1、技术“交叉”：不同技术之间的相互促进，例如AI推动计算和通信技术的发展；\n",
    "2、技术“稀缺”：在一个对技术的需求超过供应的世界，算力需求增长速度超过了摩尔定律的预测，数据和算力的稀缺性将成为挑战；\n",
    "3、技术“经济性”：技术自身向着更低的成本和更高的回报发展。\n",
    "进一步来看，美银认为，2024年将是“AI赋能一切”的一年，AI和其他技术发展之间形成一个巨大的正反馈。\n",
    "AI连接并赋能技术、商业和社会，推动着技术奇点的发展。这一进程中，计算、通信和技术的发展为AI革命带来动力，反过来又形成了正向反馈循环，提供了更多的计算能力、通信资源和数据，进一步加速了AI进步。\n",
    "美银还谈到了算力的重要性，如此多的数据，但算力却跟不上相应增长。\n",
    "计算能力的需求增长速度超过了摩尔定律的预测，每两年增长275倍。\n",
    "我们即将从每天生成百亿亿字节的数据——转向百万的六乘方字节，可再生能源超过80%的新产能也需要新的基础设施和材料，而这些原材料供应短缺。\n",
    "此外，美银还提到，未来成本将进一步降低，所有这自动化、人工智能和技术上的投资都在全面降低价格并提高回报。例如，尽管过去20年内存驱动器的容量增加了超过20000倍，但每千兆字节的价格却下降了超过99%。\n",
    "图片AI落地的五大应用领域\n",
    "去年是“AI元年”，AI革命将从开始加速，2023年我们见证了生成式AI投资激增，自ChatGPT发布以来，已经引入了各种闭源和开源模型，各公司开始开发、采用或将AI集成到产品或业务中。\n",
    "美银指出，创新步伐将从这里加速，更多的AI工具和应用可能很快会推出。这可能会在数字领域之外，为终端设备、机器人和生命科学的物理领域带来丰富的机会。\n",
    "1、端侧AI设备：在本地设备（如智能手机、汽车、可穿戴设备）上部署AI功能/模型，有助于减少延迟、成本，有助于分担大型服务器的功率负载，提高整个AI生态系统的性能。\n",
    "2、增强模拟：AI用于加速发现过程，识别最可行的模拟，加速新分子的创造，并降低成本，在物理世界中需要10年才能完成，现在可以在几周到几个月内完成这项任务，应用领域包括药物发现、芯片、化学品、材料。\n",
    "3、知识图谱：知识图谱组织来自多个源的数据，捕获有关感兴趣主题的信息，并在它们之间建立联系。它们是解决LLM“幻觉”问题（即提供带有高度信心的不准确信息）并提高神经网络能力的关键。大多数组织中的数据专业人员通常花费25-30%的时间寻找和搜索相关数据。\n",
    "4、超维度计算（HDC）：HDC使用高维向量来表示信息，而不是传统的二进制系统。它可以捕获更复杂的数据模式，并允许计算机保留更多记忆，从而减少计算和能源需求。HDC相比今天芯片中使用的技术，可以实现超过60%的能源节省。\n",
    "5、通用人工智能（AGI）：AGI作为人工助理，它将具备在广泛任务上达到或超过人类水平的一般认知能力，能够实现自我学习，并且能够解决未被预先编程的任务。随着数据的增长、计算能力的提高和技术的创新，AI可能在未来十年内达到1500的智商，是人类平均智商的18倍。\n",
    "美银补充称，尽管AI带来了许多好处，但也存在挑战，如端侧设备AI的功耗、成本、算法/软件优化和安全性问题。整体而言，美银报告预测，到2030年，AI可能会为全球增加15%-20%左右的经济价值。\n",
    "'''"
   ]
  },
  {
   "cell_type": "code",
   "execution_count": 14,
   "metadata": {},
   "outputs": [
    {
     "name": "stdout",
     "output_type": "stream",
     "text": [
      "```json\n",
      "{\n",
      "  \"keywords\": [\n",
      "    \"技术变革\",\n",
      "    \"Exascale超级电脑\",\n",
      "    \"AI\",\n",
      "    \"晶体结构\",\n",
      "    \"抗癌新药\",\n",
      "    \"乌拉圭工业机器人\",\n",
      "    \"美国银行\",\n",
      "    \"AI赋能\",\n",
      "    \"正反馈\",\n",
      "    \"技术领域\",\n",
      "    \"商业化\",\n",
      "    \"市场规模\",\n",
      "    \"财富集中\",\n",
      "    \"企业更迭\",\n",
      "    \"标普500成分股\",\n",
      "    \"AI科技革命\",\n",
      "    \"AI模型\",\n",
      "    \"端侧AI设备\",\n",
      "    \"增强模拟\",\n",
      "    \"知识图谱\",\n",
      "    \"超算\",\n",
      "    \"通用人工智能\",\n",
      "    \"技术交叉\",\n",
      "    \"技术稀缺\",\n",
      "    \"技术经济性\",\n",
      "    \"计算能力\",\n",
      "    \"摩尔定律\",\n",
      "    \"数据\",\n",
      "    \"算力\",\n",
      "    \"可再生能源\",\n",
      "    \"原材料供应\",\n",
      "    \"自动化\",\n",
      "    \"投资\",\n",
      "    \"价格\",\n",
      "    \"回报\",\n",
      "    \"AI落地应用\",\n",
      "    \"数字领域\",\n",
      "    \"物理领域\",\n",
      "    \"药物发现\",\n",
      "    \"芯片\",\n",
      "    \"化学品\",\n",
      "    \"材料\",\n",
      "    \"LLM幻觉问题\",\n",
      "    \"神经网络\",\n",
      "    \"高维向量\",\n",
      "    \"能源节省\",\n",
      "    \"智商\",\n",
      "    \"经济价值\"\n",
      "  ]\n",
      "}\n",
      "```\n"
     ]
    }
   ],
   "source": [
    "from openai import OpenAI\n",
    " \n",
    "client = OpenAI(\n",
    "    api_key=api_key_str,\n",
    "    base_url=\"https://api.moonshot.cn/v1\",\n",
    ")\n",
    "\n",
    "prompt_str = \"你是文本分析专家，请理解给定的文本，抽取关键词，以JSON形式输出。\"\n",
    "\n",
    "completion = client.chat.completions.create(\n",
    "  model=\"moonshot-v1-8k\",\n",
    "  messages=[\n",
    "    {\"role\": \"system\", \"content\": prompt_str},\n",
    "    {\"role\": \"user\", \"content\": \"给定文本：\" + given_text}\n",
    "  ],\n",
    "  temperature=0.3,\n",
    ")\n",
    " \n",
    "print(completion.choices[0].message.content)"
   ]
  },
  {
   "cell_type": "markdown",
   "metadata": {},
   "source": [
    "### (5) 文本摘要"
   ]
  },
  {
   "cell_type": "code",
   "execution_count": 15,
   "metadata": {},
   "outputs": [
    {
     "name": "stdout",
     "output_type": "stream",
     "text": [
      "随着技术进步，人类正站在一个技术变革的爆发点。Exascale超级电脑、AI发现的晶体结构数量、抗癌新药的研发以及乌拉圭工业机器人数量的增加都是这一变革的例证。美国银行在3月21日的深度报告中预测，2024年将是AI赋能一切的一年，AI和其他技术发展之间将形成一个巨大的正反馈，包括人工智能、计算、机器人、通信、医疗保健、能源等30项技术领域将迎来突破。实现突破的技术商业化是关键，相关市场规模约为16万亿美元。技术进步导致财富集中和企业快速更迭，过去100年里3%的公司几乎创造了全球所有的净财富；自2015年以来，大约三分之一标普500成分股被替换。AI科技革命正带动各行各业加速发展，未来将更多取决于AI模型的落地和应用。美银指出了端侧AI设备、增强模拟、知识图谱、超算（HDC）、通用人工智能（AGI）等五大落地方向。尽管AI带来了许多好处，但也存在挑战，如端侧设备AI的功耗、成本、算法/软件优化和安全性问题。到2030年，AI可能会为全球增加15%-20%左右的经济价值。\n"
     ]
    }
   ],
   "source": [
    "from openai import OpenAI\n",
    " \n",
    "client = OpenAI(\n",
    "    api_key=api_key_str,\n",
    "    base_url=\"https://api.moonshot.cn/v1\",\n",
    ")\n",
    "\n",
    "prompt_str = \"你是文本分析专家，请理解给定的文本，给出文本的摘要。\"\n",
    "\n",
    "completion = client.chat.completions.create(\n",
    "  model=\"moonshot-v1-8k\",\n",
    "  messages=[\n",
    "    {\"role\": \"system\", \"content\": prompt_str},\n",
    "    {\"role\": \"user\", \"content\": \"给定文本：\" + given_text}\n",
    "  ],\n",
    "  temperature=0.3,\n",
    ")\n",
    " \n",
    "print(completion.choices[0].message.content)"
   ]
  },
  {
   "cell_type": "markdown",
   "metadata": {},
   "source": [
    "### （6）文本分类\n",
    "\n",
    "文本分类：大模型将在5年内创造10万亿美元的经济价值。\n",
    "\n",
    "选项：文学，艺术，体育，健康，财经，天气"
   ]
  },
  {
   "cell_type": "code",
   "execution_count": 17,
   "metadata": {},
   "outputs": [
    {
     "name": "stdout",
     "output_type": "stream",
     "text": [
      "财经\n"
     ]
    }
   ],
   "source": [
    "from openai import OpenAI\n",
    " \n",
    "client = OpenAI(\n",
    "    api_key=api_key_str,\n",
    "    base_url=\"https://api.moonshot.cn/v1\",\n",
    ")\n",
    "\n",
    "prompt_str = \"你是文本分析专家，请理解给定的文本，判断文本所属的类别，可选的类别范围是：文学，艺术，体育，健康，财经，天气。\"\n",
    "\n",
    "completion = client.chat.completions.create(\n",
    "  model=\"moonshot-v1-8k\",\n",
    "  messages=[\n",
    "    {\"role\": \"system\", \"content\": prompt_str},\n",
    "    {\"role\": \"user\", \"content\": \"给定文本：\" + given_text}\n",
    "  ],\n",
    "  temperature=0.3,\n",
    ")\n",
    " \n",
    "print(completion.choices[0].message.content)"
   ]
  },
  {
   "cell_type": "markdown",
   "metadata": {},
   "source": [
    "### （7）情感分析\n",
    "\n",
    "情感分析：这个看上去还可以，但其实我不喜欢。。\n",
    "\n",
    "选项：积极，消极"
   ]
  },
  {
   "cell_type": "code",
   "execution_count": 18,
   "metadata": {},
   "outputs": [
    {
     "name": "stdout",
     "output_type": "stream",
     "text": [
      "消极\n"
     ]
    }
   ],
   "source": [
    "from openai import OpenAI\n",
    " \n",
    "client = OpenAI(\n",
    "    api_key=api_key_str,\n",
    "    base_url=\"https://api.moonshot.cn/v1\",\n",
    ")\n",
    "\n",
    "prompt_str = \"你是文本分析专家，请理解给定的文本，判断文本的情感类别，可选的类别范围是：积极和消极。\"\n",
    "given_text = \"这个看上去还可以，但其实我不喜欢。。\"\n",
    "completion = client.chat.completions.create(\n",
    "  model=\"moonshot-v1-8k\",\n",
    "  messages=[\n",
    "    {\"role\": \"system\", \"content\": prompt_str},\n",
    "    {\"role\": \"user\", \"content\": \"给定文本：\" + given_text}\n",
    "  ],\n",
    "  temperature=0.3,\n",
    ")\n",
    " \n",
    "print(completion.choices[0].message.content)"
   ]
  },
  {
   "cell_type": "markdown",
   "metadata": {},
   "source": [
    "文字中包含了怎样的情感：超可爱的帅哥，爱了。。。\n",
    "\n",
    "选项：厌恶，喜欢，开心，悲伤，惊讶，生气，害怕"
   ]
  },
  {
   "cell_type": "code",
   "execution_count": 19,
   "metadata": {},
   "outputs": [
    {
     "name": "stdout",
     "output_type": "stream",
     "text": [
      "喜欢\n"
     ]
    }
   ],
   "source": [
    "from openai import OpenAI\n",
    " \n",
    "client = OpenAI(\n",
    "    api_key=api_key_str,\n",
    "    base_url=\"https://api.moonshot.cn/v1\",\n",
    ")\n",
    "\n",
    "def chat_completion(prompt_str, given_text):\n",
    "    completion = client.chat.completions.create(\n",
    "        model=\"moonshot-v1-8k\",\n",
    "        messages=[\n",
    "            {\"role\": \"system\", \"content\": prompt_str},\n",
    "            {\"role\": \"user\", \"content\": \"给定文本：\" + given_text}\n",
    "        ],\n",
    "        temperature=0.3,\n",
    "    )\n",
    "    return completion.choices[0].message.content\n",
    "\n",
    "prompt_str = \"你是文本分析专家，请理解给定的文本，判断文本的情感类别，可选的类别范围是：厌恶，喜欢，开心，悲伤，惊讶，生气，害怕。\"\n",
    "given_text = \"超可爱的帅哥，爱了。。。\"\n",
    "\n",
    "print(chat_completion(prompt_str, given_text))"
   ]
  },
  {
   "cell_type": "markdown",
   "metadata": {},
   "source": [
    "方面级情感分析：\n"
   ]
  },
  {
   "cell_type": "code",
   "execution_count": 20,
   "metadata": {},
   "outputs": [
    {
     "name": "stdout",
     "output_type": "stream",
     "text": [
      "{\n",
      "  \"交通方便\": -2,\n",
      "  \"位于商圈附近\": -2,\n",
      "  \"是否容易寻找\": -2,\n",
      "  \"排队时间\": -2,\n",
      "  \"服务人员态度\": -2,\n",
      "  \"停车方便\": -2,\n",
      "  \"点菜/上菜速度\": -2,\n",
      "  \"价格水平\": -2,\n",
      "  \"性价比\": -2,\n",
      "  \"折扣力度\": -2,\n",
      "  \"装修\": 0,\n",
      "  \"噪杂情况\": -1,\n",
      "  \"就餐空间\": -1,\n",
      "  \"卫生情况\": -2,\n",
      "  \"菜品分量\": 0,\n",
      "  \"菜品口味\": 1,\n",
      "  \"菜品卖相\": -2,\n",
      "  \"菜品推荐程度\": 0\n",
      "}\n"
     ]
    }
   ],
   "source": [
    "given_text = '''和老公的朋友们聚餐，选择了这家烧肉屋，据说人气很旺，于是定座的，我们坐在楼上，阁楼感觉有点空气不流通，我这个孕妇貌似不适合油烟味大的地方，虽然已经过了孕吐期，但一开始不太习惯，发现窗没有可以开的，都是固定的有点小失望，后来慢慢就习惯了，开始点了几个甜筒，很大一个，味道还凑合，后来大家点了很多肉，其中有一个肉味道很好，但是只顾着吃也忘记叫啥了，点了两份石锅饭也全干掉了，朋友的老婆点了冷面，第一次吃这样的，感觉不错啊！'''\n",
    "prompt_str = '''作为专业的文本数据分析专家，请针对给定的评论给出方面级的情感分析判别，从18个方面给出情感效价，18个方面分别是：交通方便、位于商圈附近、是否容易寻找、排队时间、服务人员态度、停车方便、点菜/上菜速度、价格水平、性价比、折扣力度、装修、噪杂情况、就餐空间、卫生情况、菜品分量、菜品口味、菜品卖相、菜品推荐程度；以上每个方面均有四种情绪类别：1代表正向情绪，0代表中性，-1代表负向情绪，-2代表评论内容不涉及该方面。以JSON形式输出结果。'''\n",
    "print(chat_completion(prompt_str, given_text))"
   ]
  }
 ],
 "metadata": {
  "kernelspec": {
   "display_name": "deepwide",
   "language": "python",
   "name": "deepwide"
  },
  "language_info": {
   "codemirror_mode": {
    "name": "ipython",
    "version": 3
   },
   "file_extension": ".py",
   "mimetype": "text/x-python",
   "name": "python",
   "nbconvert_exporter": "python",
   "pygments_lexer": "ipython3",
   "version": "3.9.18"
  }
 },
 "nbformat": 4,
 "nbformat_minor": 2
}
