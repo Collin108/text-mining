{
 "cells": [
  {
   "cell_type": "code",
   "execution_count": 3,
   "metadata": {},
   "outputs": [],
   "source": [
    "api_key_str = \"sk-0g56v3qYextZ5b1JcxksAO6ZxJ3ZP7Y9uEVT4nEc6HRkVYde\""
   ]
  },
  {
   "cell_type": "code",
   "execution_count": 4,
   "metadata": {},
   "outputs": [
    {
     "name": "stdout",
     "output_type": "stream",
     "text": [
      "{\"情感类别\": \"喜欢\"}\n"
     ]
    }
   ],
   "source": [
    "from openai import OpenAI\n",
    " \n",
    "client = OpenAI(\n",
    "    api_key=api_key_str,\n",
    "    base_url=\"https://api.moonshot.cn/v1\",\n",
    ")\n",
    "\n",
    "def chat_completion(prompt_str, given_text):\n",
    "    completion = client.chat.completions.create(\n",
    "        model=\"moonshot-v1-8k\",\n",
    "        messages=[\n",
    "            {\"role\": \"system\", \"content\": prompt_str},\n",
    "            {\"role\": \"user\", \"content\": \"给定文本：\" + given_text}\n",
    "        ],\n",
    "        temperature=0,\n",
    "    )\n",
    "    return completion.choices[0].message.content\n",
    "\n",
    "prompt_str = \"你是文本分析专家，请理解给定的文本，判断文本的情感类别，可选的类别范围是：厌恶，喜欢，开心，悲伤，惊讶，生气，害怕。以JSON形式给出答案：\"\n",
    "given_text = \"超可爱的帅哥，爱了。。。\"\n",
    "\n",
    "print(chat_completion(prompt_str, given_text))"
   ]
  },
  {
   "cell_type": "markdown",
   "metadata": {},
   "source": [
    "方面级情感分析：\n"
   ]
  },
  {
   "cell_type": "code",
   "execution_count": 20,
   "metadata": {},
   "outputs": [
    {
     "name": "stdout",
     "output_type": "stream",
     "text": [
      "{\n",
      "  \"交通方便\": -2,\n",
      "  \"位于商圈附近\": -2,\n",
      "  \"是否容易寻找\": -2,\n",
      "  \"排队时间\": -2,\n",
      "  \"服务人员态度\": -2,\n",
      "  \"停车方便\": -2,\n",
      "  \"点菜/上菜速度\": -2,\n",
      "  \"价格水平\": -2,\n",
      "  \"性价比\": -2,\n",
      "  \"折扣力度\": -2,\n",
      "  \"装修\": 0,\n",
      "  \"噪杂情况\": -1,\n",
      "  \"就餐空间\": -1,\n",
      "  \"卫生情况\": -2,\n",
      "  \"菜品分量\": 0,\n",
      "  \"菜品口味\": 1,\n",
      "  \"菜品卖相\": -2,\n",
      "  \"菜品推荐程度\": 0\n",
      "}\n"
     ]
    }
   ],
   "source": [
    "given_text = '''和老公的朋友们聚餐，选择了这家烧肉屋，据说人气很旺，于是定座的，我们坐在楼上，阁楼感觉有点空气不流通，我这个孕妇貌似不适合油烟味大的地方，虽然已经过了孕吐期，但一开始不太习惯，发现窗没有可以开的，都是固定的有点小失望，后来慢慢就习惯了，开始点了几个甜筒，很大一个，味道还凑合，后来大家点了很多肉，其中有一个肉味道很好，但是只顾着吃也忘记叫啥了，点了两份石锅饭也全干掉了，朋友的老婆点了冷面，第一次吃这样的，感觉不错啊！'''\n",
    "prompt_str = '''作为专业的文本数据分析专家，请针对给定的评论给出方面级的情感分析判别，从18个方面给出情感效价，18个方面分别是：交通方便、位于商圈附近、是否容易寻找、排队时间、服务人员态度、停车方便、点菜/上菜速度、价格水平、性价比、折扣力度、装修、噪杂情况、就餐空间、卫生情况、菜品分量、菜品口味、菜品卖相、菜品推荐程度；以上每个方面均有四种情绪类别：1代表正向情绪，0代表中性，-1代表负向情绪，-2代表评论内容不涉及该方面。以JSON形式输出结果。'''\n",
    "print(chat_completion(prompt_str, given_text))"
   ]
  }
 ],
 "metadata": {
  "kernelspec": {
   "display_name": "deepwide",
   "language": "python",
   "name": "python3"
  },
  "language_info": {
   "codemirror_mode": {
    "name": "ipython",
    "version": 3
   },
   "file_extension": ".py",
   "mimetype": "text/x-python",
   "name": "python",
   "nbconvert_exporter": "python",
   "pygments_lexer": "ipython3",
   "version": "3.9.18"
  }
 },
 "nbformat": 4,
 "nbformat_minor": 2
}
